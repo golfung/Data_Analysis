{
 "cells": [
  {
   "cell_type": "markdown",
   "id": "73e9b88b",
   "metadata": {
    "_cell_guid": "5204a92e-e414-47b3-b069-9a40621922da",
    "_uuid": "e331faddc0e38839ea7b75945b2cd5e78d83f0c4",
    "execution": {
     "iopub.execute_input": "2023-03-05T07:48:37.043669Z",
     "iopub.status.busy": "2023-03-05T07:48:37.041885Z",
     "iopub.status.idle": "2023-03-05T07:48:37.140382Z"
    },
    "papermill": {
     "duration": 0.010963,
     "end_time": "2023-03-05T19:04:18.669434",
     "exception": false,
     "start_time": "2023-03-05T19:04:18.658471",
     "status": "completed"
    },
    "tags": []
   },
   "source": [
    "# Welcome to Golf Nattapat's project\n",
    "\n",
    "This is not *my make money the series* project. But I'm interested in trying statistics to solve real-world problems. So I'm going to try to solve why the company's revenue is declining and how to improve it. This project refers to https://www.kaggle.com/datasets/ranitsarkar01/yulu-bike-sharing-data"
   ]
  },
  {
   "cell_type": "markdown",
   "id": "6fe95c34",
   "metadata": {
    "papermill": {
     "duration": 0.008885,
     "end_time": "2023-03-05T19:04:18.687497",
     "exception": false,
     "start_time": "2023-03-05T19:04:18.678612",
     "status": "completed"
    },
    "tags": []
   },
   "source": [
    "**About Yulu**\n",
    "\n",
    "Yulu is India’s leading micro-mobility service provider, which offers unique vehicles for the daily commute. Starting off as a mission to eliminate traffic congestion in India, Yulu provides the safest commute solution through a user-friendly mobile app to enable shared, solo and sustainable commuting.\n",
    "Yulu zones are located at all the appropriate locations (including metro stations, bus stands, office spaces, residential areas, corporate offices, etc) to make those first and last miles smooth, affordable, and convenient!\n",
    "\n",
    "Yulu has recently suffered considerable dips in its revenues. They have contracted a consulting company to understand the factors on which the demand for these shared electric cycles depends. Specifically, they want to understand the factors affecting the demand for these shared electric cycles in the Indian market."
   ]
  },
  {
   "cell_type": "markdown",
   "id": "0ae6d564",
   "metadata": {
    "papermill": {
     "duration": 0.008938,
     "end_time": "2023-03-05T19:04:18.705417",
     "exception": false,
     "start_time": "2023-03-05T19:04:18.696479",
     "status": "completed"
    },
    "tags": []
   },
   "source": [
    "**Column Profiling:**\n",
    "\n",
    "datetime: datetime\n",
    "\n",
    "season: season (1: spring, 2: summer, 3: fall, 4: winter)\n",
    "\n",
    "holiday: whether day is a holiday or not (extracted from http://dchr.dc.gov/page/holiday-schedule)\n",
    "\n",
    "workingday: if day is neither weekend nor holiday is 1, otherwise is 0.\n",
    "\n",
    "weather: 1: Clear, Few clouds, partly cloudy, partly cloudy 2: Mist + Cloudy, Mist + Broken clouds, Mist + Few clouds, Mist 3: Light Snow, Light Rain + Thunderstorm + Scattered clouds, Light Rain + Scattered clouds 4: Heavy Rain + Ice Pallets + Thunderstorm + Mist, Snow + Fog\n",
    "\n",
    "temp: temperature in Celsius\n",
    "\n",
    "atemp: feeling temperature in Celsius\n",
    "\n",
    "humidity: humidity\n",
    "\n",
    "windspeed: wind speed\n",
    "\n",
    "casual: count of casual users\n",
    "\n",
    "registered: count of registered users\n",
    "\n",
    "count: count of total rental bikes including both casual and registered"
   ]
  },
  {
   "cell_type": "markdown",
   "id": "bec37a09",
   "metadata": {
    "papermill": {
     "duration": 0.009782,
     "end_time": "2023-03-05T19:04:18.724263",
     "exception": false,
     "start_time": "2023-03-05T19:04:18.714481",
     "status": "completed"
    },
    "tags": []
   },
   "source": [
    "# Data Analysis"
   ]
  },
  {
   "cell_type": "markdown",
   "id": "77d76681",
   "metadata": {
    "papermill": {
     "duration": 0.008808,
     "end_time": "2023-03-05T19:04:18.742041",
     "exception": false,
     "start_time": "2023-03-05T19:04:18.733233",
     "status": "completed"
    },
    "tags": []
   },
   "source": [
    "## Ask\n",
    "Follow from project referance.\n",
    "\n",
    "**The company wants to know:**\n",
    "\n",
    "Which variables are significant in predicting the demand for shared electric cycles in the Indian market?\n",
    "\n",
    "How well those variables describe the electric cycle demands?\n",
    "\n",
    "**Concepts Used:**\n",
    "\n",
    "Bi-Variate Analysis 2-sample t-test: testing for difference across populations ANNOVA Chi-square\n",
    "\n",
    "**How to begin:**\n",
    "\n",
    "Import the dataset and do usual exploratory data analysis steps like checking the structure & characteristics of the dataset\n",
    "\n",
    "Try establishing a relation between the dependent and independent variable (Dependent “Count” & Independent: Workingday, Weather, Season etc)\n",
    "\n",
    "Select an appropriate test to check whether:\n",
    "\n",
    "Working Day has effect on number of electric cycles rented\n",
    "\n",
    "No. of cycles rented similar or different in different seasons\n",
    "\n",
    "No. of cycles rented similar or different in different weather\n",
    "\n",
    "Weather is dependent on season (check between 2 predictor variable)\n",
    "\n",
    "Set up Null Hypothesis (H0) State the alternate hypothesis (H1) Check assumptions of the test (Normality, Equal Variance). You can check it using Histogram, Q-Q plot or statistical methods like levene’s test, Shapiro-wilk test (optional)\n",
    "\n",
    "Please continue doing the analysis even If some assumptions fail (levene’s test or Shapiro-wilk test) but double check using visual analysis and report wherever necessary\n",
    "\n",
    "Set a significance level (alpha) Calculate test Statistics. Decision to accept or reject null hypothesis. Inference from the analysis"
   ]
  },
  {
   "cell_type": "markdown",
   "id": "ee30758c",
   "metadata": {
    "papermill": {
     "duration": 0.008882,
     "end_time": "2023-03-05T19:04:18.759759",
     "exception": false,
     "start_time": "2023-03-05T19:04:18.750877",
     "status": "completed"
    },
    "tags": []
   },
   "source": [
    "## Prepare"
   ]
  },
  {
   "cell_type": "code",
   "execution_count": 1,
   "id": "6936e5dc",
   "metadata": {
    "execution": {
     "iopub.execute_input": "2023-03-05T19:04:18.782599Z",
     "iopub.status.busy": "2023-03-05T19:04:18.779768Z",
     "iopub.status.idle": "2023-03-05T19:05:19.099339Z",
     "shell.execute_reply": "2023-03-05T19:05:19.097413Z"
    },
    "papermill": {
     "duration": 60.338949,
     "end_time": "2023-03-05T19:05:19.107484",
     "exception": false,
     "start_time": "2023-03-05T19:04:18.768535",
     "status": "completed"
    },
    "tags": []
   },
   "outputs": [
    {
     "name": "stderr",
     "output_type": "stream",
     "text": [
      "Installing package into ‘/usr/local/lib/R/site-library’\n",
      "(as ‘lib’ is unspecified)\n",
      "\n",
      "Warning message:\n",
      "“unable to access index for repository http://cran.rstudio.com/src/contrib:\n",
      "  cannot open URL 'http://cran.rstudio.com/src/contrib/PACKAGES'”\n",
      "Warning message:\n",
      "“package ‘RSQLite’ is not available for this version of R\n",
      "\n",
      "A version of this package for your version of R might be available elsewhere,\n",
      "see the ideas at\n",
      "https://cran.r-project.org/doc/manuals/r-patched/R-admin.html#Installing-packages”\n"
     ]
    }
   ],
   "source": [
    "# Install package\n",
    "install.packages(\"RSQLite\")"
   ]
  },
  {
   "cell_type": "code",
   "execution_count": 2,
   "id": "0f7772ba",
   "metadata": {
    "execution": {
     "iopub.execute_input": "2023-03-05T19:05:19.158684Z",
     "iopub.status.busy": "2023-03-05T19:05:19.128005Z",
     "iopub.status.idle": "2023-03-05T19:05:20.860837Z",
     "shell.execute_reply": "2023-03-05T19:05:20.858739Z"
    },
    "papermill": {
     "duration": 1.747048,
     "end_time": "2023-03-05T19:05:20.864208",
     "exception": false,
     "start_time": "2023-03-05T19:05:19.117160",
     "status": "completed"
    },
    "tags": []
   },
   "outputs": [
    {
     "name": "stderr",
     "output_type": "stream",
     "text": [
      "\n",
      "Attaching package: ‘dplyr’\n",
      "\n",
      "\n",
      "The following objects are masked from ‘package:plyr’:\n",
      "\n",
      "    arrange, count, desc, failwith, id, mutate, rename, summarise,\n",
      "    summarize\n",
      "\n",
      "\n",
      "The following objects are masked from ‘package:stats’:\n",
      "\n",
      "    filter, lag\n",
      "\n",
      "\n",
      "The following objects are masked from ‘package:base’:\n",
      "\n",
      "    intersect, setdiff, setequal, union\n",
      "\n",
      "\n",
      "── \u001b[1mAttaching packages\u001b[22m ─────────────────────────────────────── tidyverse 1.3.2 ──\n",
      "\u001b[32m✔\u001b[39m \u001b[34mggplot2\u001b[39m 3.4.0     \u001b[32m✔\u001b[39m \u001b[34mpurrr  \u001b[39m 1.0.1\n",
      "\u001b[32m✔\u001b[39m \u001b[34mtibble \u001b[39m 3.1.8     \u001b[32m✔\u001b[39m \u001b[34mstringr\u001b[39m 1.5.0\n",
      "\u001b[32m✔\u001b[39m \u001b[34mtidyr  \u001b[39m 1.2.1     \u001b[32m✔\u001b[39m \u001b[34mforcats\u001b[39m 0.5.2\n",
      "\u001b[32m✔\u001b[39m \u001b[34mreadr  \u001b[39m 2.1.3     \n",
      "── \u001b[1mConflicts\u001b[22m ────────────────────────────────────────── tidyverse_conflicts() ──\n",
      "\u001b[31m✖\u001b[39m \u001b[34mdplyr\u001b[39m::\u001b[32marrange()\u001b[39m   masks \u001b[34mplyr\u001b[39m::arrange()\n",
      "\u001b[31m✖\u001b[39m \u001b[34mpurrr\u001b[39m::\u001b[32mcompact()\u001b[39m   masks \u001b[34mplyr\u001b[39m::compact()\n",
      "\u001b[31m✖\u001b[39m \u001b[34mdplyr\u001b[39m::\u001b[32mcount()\u001b[39m     masks \u001b[34mplyr\u001b[39m::count()\n",
      "\u001b[31m✖\u001b[39m \u001b[34mdplyr\u001b[39m::\u001b[32mfailwith()\u001b[39m  masks \u001b[34mplyr\u001b[39m::failwith()\n",
      "\u001b[31m✖\u001b[39m \u001b[34mdplyr\u001b[39m::\u001b[32mfilter()\u001b[39m    masks \u001b[34mstats\u001b[39m::filter()\n",
      "\u001b[31m✖\u001b[39m \u001b[34mdplyr\u001b[39m::\u001b[32mid()\u001b[39m        masks \u001b[34mplyr\u001b[39m::id()\n",
      "\u001b[31m✖\u001b[39m \u001b[34mdplyr\u001b[39m::\u001b[32mlag()\u001b[39m       masks \u001b[34mstats\u001b[39m::lag()\n",
      "\u001b[31m✖\u001b[39m \u001b[34mdplyr\u001b[39m::\u001b[32mmutate()\u001b[39m    masks \u001b[34mplyr\u001b[39m::mutate()\n",
      "\u001b[31m✖\u001b[39m \u001b[34mdplyr\u001b[39m::\u001b[32mrename()\u001b[39m    masks \u001b[34mplyr\u001b[39m::rename()\n",
      "\u001b[31m✖\u001b[39m \u001b[34mdplyr\u001b[39m::\u001b[32msummarise()\u001b[39m masks \u001b[34mplyr\u001b[39m::summarise()\n",
      "\u001b[31m✖\u001b[39m \u001b[34mdplyr\u001b[39m::\u001b[32msummarize()\u001b[39m masks \u001b[34mplyr\u001b[39m::summarize()\n",
      "Registered S3 method overwritten by 'GGally':\n",
      "  method from   \n",
      "  +.gg   ggplot2\n",
      "\n",
      "Loading required package: timechange\n",
      "\n",
      "\n",
      "Attaching package: ‘lubridate’\n",
      "\n",
      "\n",
      "The following objects are masked from ‘package:base’:\n",
      "\n",
      "    date, intersect, setdiff, union\n",
      "\n",
      "\n",
      "Loading required package: gsubfn\n",
      "\n",
      "Loading required package: proto\n",
      "\n",
      "Warning message:\n",
      "“no DISPLAY variable so Tk is not available”\n",
      "Loading required package: RSQLite\n",
      "\n"
     ]
    }
   ],
   "source": [
    "# Load library\n",
    "library(plyr)\n",
    "library(dplyr)\n",
    "library(tidyverse)\n",
    "library(tidyr)\n",
    "library(ggplot2)\n",
    "library(GGally)\n",
    "library(lubridate)\n",
    "library(sqldf)\n"
   ]
  },
  {
   "cell_type": "code",
   "execution_count": 3,
   "id": "de02e882",
   "metadata": {
    "execution": {
     "iopub.execute_input": "2023-03-05T19:05:20.888506Z",
     "iopub.status.busy": "2023-03-05T19:05:20.886370Z",
     "iopub.status.idle": "2023-03-05T19:05:20.996876Z",
     "shell.execute_reply": "2023-03-05T19:05:20.994708Z"
    },
    "papermill": {
     "duration": 0.125156,
     "end_time": "2023-03-05T19:05:20.999536",
     "exception": false,
     "start_time": "2023-03-05T19:05:20.874380",
     "status": "completed"
    },
    "tags": []
   },
   "outputs": [
    {
     "data": {
      "text/html": [
       "<table class=\"dataframe\">\n",
       "<caption>A data.frame: 6 × 12</caption>\n",
       "<thead>\n",
       "\t<tr><th></th><th scope=col>datetime</th><th scope=col>season</th><th scope=col>holiday</th><th scope=col>workingday</th><th scope=col>weather</th><th scope=col>temp</th><th scope=col>atemp</th><th scope=col>humidity</th><th scope=col>windspeed</th><th scope=col>casual</th><th scope=col>registered</th><th scope=col>count</th></tr>\n",
       "\t<tr><th></th><th scope=col>&lt;chr&gt;</th><th scope=col>&lt;int&gt;</th><th scope=col>&lt;int&gt;</th><th scope=col>&lt;int&gt;</th><th scope=col>&lt;int&gt;</th><th scope=col>&lt;dbl&gt;</th><th scope=col>&lt;dbl&gt;</th><th scope=col>&lt;int&gt;</th><th scope=col>&lt;dbl&gt;</th><th scope=col>&lt;int&gt;</th><th scope=col>&lt;int&gt;</th><th scope=col>&lt;int&gt;</th></tr>\n",
       "</thead>\n",
       "<tbody>\n",
       "\t<tr><th scope=row>1</th><td>2011-01-01 00:00:00</td><td>1</td><td>0</td><td>0</td><td>1</td><td>9.84</td><td>14.395</td><td>81</td><td>0.0000</td><td>3</td><td>13</td><td>16</td></tr>\n",
       "\t<tr><th scope=row>2</th><td>2011-01-01 01:00:00</td><td>1</td><td>0</td><td>0</td><td>1</td><td>9.02</td><td>13.635</td><td>80</td><td>0.0000</td><td>8</td><td>32</td><td>40</td></tr>\n",
       "\t<tr><th scope=row>3</th><td>2011-01-01 02:00:00</td><td>1</td><td>0</td><td>0</td><td>1</td><td>9.02</td><td>13.635</td><td>80</td><td>0.0000</td><td>5</td><td>27</td><td>32</td></tr>\n",
       "\t<tr><th scope=row>4</th><td>2011-01-01 03:00:00</td><td>1</td><td>0</td><td>0</td><td>1</td><td>9.84</td><td>14.395</td><td>75</td><td>0.0000</td><td>3</td><td>10</td><td>13</td></tr>\n",
       "\t<tr><th scope=row>5</th><td>2011-01-01 04:00:00</td><td>1</td><td>0</td><td>0</td><td>1</td><td>9.84</td><td>14.395</td><td>75</td><td>0.0000</td><td>0</td><td> 1</td><td> 1</td></tr>\n",
       "\t<tr><th scope=row>6</th><td>2011-01-01 05:00:00</td><td>1</td><td>0</td><td>0</td><td>2</td><td>9.84</td><td>12.880</td><td>75</td><td>6.0032</td><td>0</td><td> 1</td><td> 1</td></tr>\n",
       "</tbody>\n",
       "</table>\n"
      ],
      "text/latex": [
       "A data.frame: 6 × 12\n",
       "\\begin{tabular}{r|llllllllllll}\n",
       "  & datetime & season & holiday & workingday & weather & temp & atemp & humidity & windspeed & casual & registered & count\\\\\n",
       "  & <chr> & <int> & <int> & <int> & <int> & <dbl> & <dbl> & <int> & <dbl> & <int> & <int> & <int>\\\\\n",
       "\\hline\n",
       "\t1 & 2011-01-01 00:00:00 & 1 & 0 & 0 & 1 & 9.84 & 14.395 & 81 & 0.0000 & 3 & 13 & 16\\\\\n",
       "\t2 & 2011-01-01 01:00:00 & 1 & 0 & 0 & 1 & 9.02 & 13.635 & 80 & 0.0000 & 8 & 32 & 40\\\\\n",
       "\t3 & 2011-01-01 02:00:00 & 1 & 0 & 0 & 1 & 9.02 & 13.635 & 80 & 0.0000 & 5 & 27 & 32\\\\\n",
       "\t4 & 2011-01-01 03:00:00 & 1 & 0 & 0 & 1 & 9.84 & 14.395 & 75 & 0.0000 & 3 & 10 & 13\\\\\n",
       "\t5 & 2011-01-01 04:00:00 & 1 & 0 & 0 & 1 & 9.84 & 14.395 & 75 & 0.0000 & 0 &  1 &  1\\\\\n",
       "\t6 & 2011-01-01 05:00:00 & 1 & 0 & 0 & 2 & 9.84 & 12.880 & 75 & 6.0032 & 0 &  1 &  1\\\\\n",
       "\\end{tabular}\n"
      ],
      "text/markdown": [
       "\n",
       "A data.frame: 6 × 12\n",
       "\n",
       "| <!--/--> | datetime &lt;chr&gt; | season &lt;int&gt; | holiday &lt;int&gt; | workingday &lt;int&gt; | weather &lt;int&gt; | temp &lt;dbl&gt; | atemp &lt;dbl&gt; | humidity &lt;int&gt; | windspeed &lt;dbl&gt; | casual &lt;int&gt; | registered &lt;int&gt; | count &lt;int&gt; |\n",
       "|---|---|---|---|---|---|---|---|---|---|---|---|---|\n",
       "| 1 | 2011-01-01 00:00:00 | 1 | 0 | 0 | 1 | 9.84 | 14.395 | 81 | 0.0000 | 3 | 13 | 16 |\n",
       "| 2 | 2011-01-01 01:00:00 | 1 | 0 | 0 | 1 | 9.02 | 13.635 | 80 | 0.0000 | 8 | 32 | 40 |\n",
       "| 3 | 2011-01-01 02:00:00 | 1 | 0 | 0 | 1 | 9.02 | 13.635 | 80 | 0.0000 | 5 | 27 | 32 |\n",
       "| 4 | 2011-01-01 03:00:00 | 1 | 0 | 0 | 1 | 9.84 | 14.395 | 75 | 0.0000 | 3 | 10 | 13 |\n",
       "| 5 | 2011-01-01 04:00:00 | 1 | 0 | 0 | 1 | 9.84 | 14.395 | 75 | 0.0000 | 0 |  1 |  1 |\n",
       "| 6 | 2011-01-01 05:00:00 | 1 | 0 | 0 | 2 | 9.84 | 12.880 | 75 | 6.0032 | 0 |  1 |  1 |\n",
       "\n"
      ],
      "text/plain": [
       "  datetime            season holiday workingday weather temp atemp  humidity\n",
       "1 2011-01-01 00:00:00 1      0       0          1       9.84 14.395 81      \n",
       "2 2011-01-01 01:00:00 1      0       0          1       9.02 13.635 80      \n",
       "3 2011-01-01 02:00:00 1      0       0          1       9.02 13.635 80      \n",
       "4 2011-01-01 03:00:00 1      0       0          1       9.84 14.395 75      \n",
       "5 2011-01-01 04:00:00 1      0       0          1       9.84 14.395 75      \n",
       "6 2011-01-01 05:00:00 1      0       0          2       9.84 12.880 75      \n",
       "  windspeed casual registered count\n",
       "1 0.0000    3      13         16   \n",
       "2 0.0000    8      32         40   \n",
       "3 0.0000    5      27         32   \n",
       "4 0.0000    3      10         13   \n",
       "5 0.0000    0       1          1   \n",
       "6 6.0032    0       1          1   "
      ]
     },
     "metadata": {},
     "output_type": "display_data"
    }
   ],
   "source": [
    "yulu_data <- read.csv('/kaggle/input/yulu-bike-sharing-data/yulu_bike_sharing_dataset.csv')\n",
    "yulu_data %>% head()\n",
    "   "
   ]
  },
  {
   "cell_type": "markdown",
   "id": "8cda78fd",
   "metadata": {
    "papermill": {
     "duration": 0.010614,
     "end_time": "2023-03-05T19:05:21.020878",
     "exception": false,
     "start_time": "2023-03-05T19:05:21.010264",
     "status": "completed"
    },
    "tags": []
   },
   "source": [
    "## Process"
   ]
  },
  {
   "cell_type": "code",
   "execution_count": 4,
   "id": "aaabbf35",
   "metadata": {
    "execution": {
     "iopub.execute_input": "2023-03-05T19:05:21.046926Z",
     "iopub.status.busy": "2023-03-05T19:05:21.045071Z",
     "iopub.status.idle": "2023-03-05T19:05:21.076846Z",
     "shell.execute_reply": "2023-03-05T19:05:21.074737Z"
    },
    "papermill": {
     "duration": 0.047074,
     "end_time": "2023-03-05T19:05:21.079564",
     "exception": false,
     "start_time": "2023-03-05T19:05:21.032490",
     "status": "completed"
    },
    "tags": []
   },
   "outputs": [
    {
     "data": {
      "text/html": [
       "0"
      ],
      "text/latex": [
       "0"
      ],
      "text/markdown": [
       "0"
      ],
      "text/plain": [
       "[1] 0"
      ]
     },
     "metadata": {},
     "output_type": "display_data"
    },
    {
     "data": {
      "text/html": [
       "10886"
      ],
      "text/latex": [
       "10886"
      ],
      "text/markdown": [
       "10886"
      ],
      "text/plain": [
       "[1] 10886"
      ]
     },
     "metadata": {},
     "output_type": "display_data"
    }
   ],
   "source": [
    "# Check NA data\n",
    "sum(is.na(yulu_data))\n",
    "nrow(yulu_data)"
   ]
  },
  {
   "cell_type": "code",
   "execution_count": 5,
   "id": "c00b7caf",
   "metadata": {
    "execution": {
     "iopub.execute_input": "2023-03-05T19:05:21.104572Z",
     "iopub.status.busy": "2023-03-05T19:05:21.102653Z",
     "iopub.status.idle": "2023-03-05T19:05:21.148466Z",
     "shell.execute_reply": "2023-03-05T19:05:21.146212Z"
    },
    "papermill": {
     "duration": 0.061965,
     "end_time": "2023-03-05T19:05:21.151933",
     "exception": false,
     "start_time": "2023-03-05T19:05:21.089968",
     "status": "completed"
    },
    "tags": []
   },
   "outputs": [
    {
     "name": "stdout",
     "output_type": "stream",
     "text": [
      "Rows: 10,886\n",
      "Columns: 12\n",
      "$ datetime   \u001b[3m\u001b[90m<chr>\u001b[39m\u001b[23m \"2011-01-01 00:00:00\", \"2011-01-01 01:00:00\", \"2011-01-01 0…\n",
      "$ season     \u001b[3m\u001b[90m<int>\u001b[39m\u001b[23m 1, 1, 1, 1, 1, 1, 1, 1, 1, 1, 1, 1, 1, 1, 1, 1, 1, 1, 1, 1,…\n",
      "$ holiday    \u001b[3m\u001b[90m<int>\u001b[39m\u001b[23m 0, 0, 0, 0, 0, 0, 0, 0, 0, 0, 0, 0, 0, 0, 0, 0, 0, 0, 0, 0,…\n",
      "$ workingday \u001b[3m\u001b[90m<int>\u001b[39m\u001b[23m 0, 0, 0, 0, 0, 0, 0, 0, 0, 0, 0, 0, 0, 0, 0, 0, 0, 0, 0, 0,…\n",
      "$ weather    \u001b[3m\u001b[90m<int>\u001b[39m\u001b[23m 1, 1, 1, 1, 1, 2, 1, 1, 1, 1, 1, 1, 1, 2, 2, 2, 2, 2, 3, 3,…\n",
      "$ temp       \u001b[3m\u001b[90m<dbl>\u001b[39m\u001b[23m 9.84, 9.02, 9.02, 9.84, 9.84, 9.84, 9.02, 8.20, 9.84, 13.12…\n",
      "$ atemp      \u001b[3m\u001b[90m<dbl>\u001b[39m\u001b[23m 14.395, 13.635, 13.635, 14.395, 14.395, 12.880, 13.635, 12.…\n",
      "$ humidity   \u001b[3m\u001b[90m<int>\u001b[39m\u001b[23m 81, 80, 80, 75, 75, 75, 80, 86, 75, 76, 76, 81, 77, 72, 72,…\n",
      "$ windspeed  \u001b[3m\u001b[90m<dbl>\u001b[39m\u001b[23m 0.0000, 0.0000, 0.0000, 0.0000, 0.0000, 6.0032, 0.0000, 0.0…\n",
      "$ casual     \u001b[3m\u001b[90m<int>\u001b[39m\u001b[23m 3, 8, 5, 3, 0, 0, 2, 1, 1, 8, 12, 26, 29, 47, 35, 40, 41, 1…\n",
      "$ registered \u001b[3m\u001b[90m<int>\u001b[39m\u001b[23m 13, 32, 27, 10, 1, 1, 0, 2, 7, 6, 24, 30, 55, 47, 71, 70, 5…\n",
      "$ count      \u001b[3m\u001b[90m<int>\u001b[39m\u001b[23m 16, 40, 32, 13, 1, 1, 2, 3, 8, 14, 36, 56, 84, 94, 106, 110…\n"
     ]
    }
   ],
   "source": [
    "# Check data type\n",
    "glimpse(yulu_data)"
   ]
  },
  {
   "cell_type": "markdown",
   "id": "a3d7ec38",
   "metadata": {
    "_cell_guid": "c8a5fd8a-1bff-4608-91b4-fa6380f4297f",
    "_uuid": "d7925838207eb68f2cc594fc5151ef85a78fadec",
    "papermill": {
     "duration": 0.010391,
     "end_time": "2023-03-05T19:05:21.172864",
     "exception": false,
     "start_time": "2023-03-05T19:05:21.162473",
     "status": "completed"
    },
    "tags": []
   },
   "source": [
    "\n"
   ]
  },
  {
   "cell_type": "code",
   "execution_count": 6,
   "id": "9ed1670f",
   "metadata": {
    "execution": {
     "iopub.execute_input": "2023-03-05T19:05:21.199110Z",
     "iopub.status.busy": "2023-03-05T19:05:21.196051Z",
     "iopub.status.idle": "2023-03-05T19:05:21.238329Z",
     "shell.execute_reply": "2023-03-05T19:05:21.235465Z"
    },
    "papermill": {
     "duration": 0.057992,
     "end_time": "2023-03-05T19:05:21.241285",
     "exception": false,
     "start_time": "2023-03-05T19:05:21.183293",
     "status": "completed"
    },
    "tags": []
   },
   "outputs": [
    {
     "data": {
      "text/html": [
       "<style>\n",
       ".list-inline {list-style: none; margin:0; padding: 0}\n",
       ".list-inline>li {display: inline-block}\n",
       ".list-inline>li:not(:last-child)::after {content: \"\\00b7\"; padding: 0 .5ex}\n",
       "</style>\n",
       "<ol class=list-inline><li>'POSIXct'</li><li>'POSIXt'</li></ol>\n"
      ],
      "text/latex": [
       "\\begin{enumerate*}\n",
       "\\item 'POSIXct'\n",
       "\\item 'POSIXt'\n",
       "\\end{enumerate*}\n"
      ],
      "text/markdown": [
       "1. 'POSIXct'\n",
       "2. 'POSIXt'\n",
       "\n",
       "\n"
      ],
      "text/plain": [
       "[1] \"POSIXct\" \"POSIXt\" "
      ]
     },
     "metadata": {},
     "output_type": "display_data"
    }
   ],
   "source": [
    "# Change to date time format\n",
    "yulu_data$datetime <- as.POSIXct(yulu_data$datetime, format=\"%Y-%m-%d %H:%M:%S\")\n",
    "class(yulu_data$datetime)"
   ]
  },
  {
   "cell_type": "code",
   "execution_count": 7,
   "id": "b96445aa",
   "metadata": {
    "execution": {
     "iopub.execute_input": "2023-03-05T19:05:21.267471Z",
     "iopub.status.busy": "2023-03-05T19:05:21.265486Z",
     "iopub.status.idle": "2023-03-05T19:05:21.322225Z",
     "shell.execute_reply": "2023-03-05T19:05:21.319748Z"
    },
    "papermill": {
     "duration": 0.073129,
     "end_time": "2023-03-05T19:05:21.325021",
     "exception": false,
     "start_time": "2023-03-05T19:05:21.251892",
     "status": "completed"
    },
    "tags": []
   },
   "outputs": [
    {
     "name": "stdout",
     "output_type": "stream",
     "text": [
      "Rows: 10,886\n",
      "Columns: 13\n",
      "$ season     \u001b[3m\u001b[90m<int>\u001b[39m\u001b[23m 1, 1, 1, 1, 1, 1, 1, 1, 1, 1, 1, 1, 1, 1, 1, 1, 1, 1, 1, 1,…\n",
      "$ holiday    \u001b[3m\u001b[90m<int>\u001b[39m\u001b[23m 0, 0, 0, 0, 0, 0, 0, 0, 0, 0, 0, 0, 0, 0, 0, 0, 0, 0, 0, 0,…\n",
      "$ workingday \u001b[3m\u001b[90m<int>\u001b[39m\u001b[23m 0, 0, 0, 0, 0, 0, 0, 0, 0, 0, 0, 0, 0, 0, 0, 0, 0, 0, 0, 0,…\n",
      "$ weather    \u001b[3m\u001b[90m<int>\u001b[39m\u001b[23m 1, 1, 1, 1, 1, 2, 1, 1, 1, 1, 1, 1, 1, 2, 2, 2, 2, 2, 3, 3,…\n",
      "$ temp       \u001b[3m\u001b[90m<dbl>\u001b[39m\u001b[23m 9.84, 9.02, 9.02, 9.84, 9.84, 9.84, 9.02, 8.20, 9.84, 13.12…\n",
      "$ atemp      \u001b[3m\u001b[90m<dbl>\u001b[39m\u001b[23m 14.395, 13.635, 13.635, 14.395, 14.395, 12.880, 13.635, 12.…\n",
      "$ humidity   \u001b[3m\u001b[90m<int>\u001b[39m\u001b[23m 81, 80, 80, 75, 75, 75, 80, 86, 75, 76, 76, 81, 77, 72, 72,…\n",
      "$ windspeed  \u001b[3m\u001b[90m<dbl>\u001b[39m\u001b[23m 0.0000, 0.0000, 0.0000, 0.0000, 0.0000, 6.0032, 0.0000, 0.0…\n",
      "$ casual     \u001b[3m\u001b[90m<int>\u001b[39m\u001b[23m 3, 8, 5, 3, 0, 0, 2, 1, 1, 8, 12, 26, 29, 47, 35, 40, 41, 1…\n",
      "$ registered \u001b[3m\u001b[90m<int>\u001b[39m\u001b[23m 13, 32, 27, 10, 1, 1, 0, 2, 7, 6, 24, 30, 55, 47, 71, 70, 5…\n",
      "$ count      \u001b[3m\u001b[90m<int>\u001b[39m\u001b[23m 16, 40, 32, 13, 1, 1, 2, 3, 8, 14, 36, 56, 84, 94, 106, 110…\n",
      "$ date       \u001b[3m\u001b[90m<date>\u001b[39m\u001b[23m 2011-01-01, 2011-01-01, 2011-01-01, 2011-01-01, 2011-01-01…\n",
      "$ time       \u001b[3m\u001b[90m<chr>\u001b[39m\u001b[23m \"00:00:00\", \"01:00:00\", \"02:00:00\", \"03:00:00\", \"04:00:00\",…\n"
     ]
    }
   ],
   "source": [
    "# Separate Date and Time column and remove Datetime column\n",
    "yulu_data$date <- as.Date(yulu_data$datetime)\n",
    "yulu_data$time <- format(as.POSIXct(yulu_data$datetime),format = \"%H:%M:%S\")\n",
    "yulu_new_df <- yulu_data[,-1]\n",
    "glimpse(yulu_new_df)"
   ]
  },
  {
   "cell_type": "code",
   "execution_count": 8,
   "id": "e493e1ad",
   "metadata": {
    "execution": {
     "iopub.execute_input": "2023-03-05T19:05:21.351257Z",
     "iopub.status.busy": "2023-03-05T19:05:21.349367Z",
     "iopub.status.idle": "2023-03-05T19:05:21.403238Z",
     "shell.execute_reply": "2023-03-05T19:05:21.400072Z"
    },
    "papermill": {
     "duration": 0.070144,
     "end_time": "2023-03-05T19:05:21.406319",
     "exception": false,
     "start_time": "2023-03-05T19:05:21.336175",
     "status": "completed"
    },
    "tags": []
   },
   "outputs": [
    {
     "name": "stdout",
     "output_type": "stream",
     "text": [
      "Rows: 10,886\n",
      "Columns: 13\n",
      "$ season     \u001b[3m\u001b[90m<int>\u001b[39m\u001b[23m 1, 1, 1, 1, 1, 1, 1, 1, 1, 1, 1, 1, 1, 1, 1, 1, 1, 1, 1, 1,…\n",
      "$ holiday    \u001b[3m\u001b[90m<int>\u001b[39m\u001b[23m 0, 0, 0, 0, 0, 0, 0, 0, 0, 0, 0, 0, 0, 0, 0, 0, 0, 0, 0, 0,…\n",
      "$ workingday \u001b[3m\u001b[90m<int>\u001b[39m\u001b[23m 0, 0, 0, 0, 0, 0, 0, 0, 0, 0, 0, 0, 0, 0, 0, 0, 0, 0, 0, 0,…\n",
      "$ weather    \u001b[3m\u001b[90m<int>\u001b[39m\u001b[23m 1, 1, 1, 1, 1, 2, 1, 1, 1, 1, 1, 1, 1, 2, 2, 2, 2, 2, 3, 3,…\n",
      "$ temp       \u001b[3m\u001b[90m<dbl>\u001b[39m\u001b[23m 9.84, 9.02, 9.02, 9.84, 9.84, 9.84, 9.02, 8.20, 9.84, 13.12…\n",
      "$ atemp      \u001b[3m\u001b[90m<dbl>\u001b[39m\u001b[23m 14.395, 13.635, 13.635, 14.395, 14.395, 12.880, 13.635, 12.…\n",
      "$ humidity   \u001b[3m\u001b[90m<int>\u001b[39m\u001b[23m 81, 80, 80, 75, 75, 75, 80, 86, 75, 76, 76, 81, 77, 72, 72,…\n",
      "$ windspeed  \u001b[3m\u001b[90m<dbl>\u001b[39m\u001b[23m 0.0000, 0.0000, 0.0000, 0.0000, 0.0000, 6.0032, 0.0000, 0.0…\n",
      "$ casual     \u001b[3m\u001b[90m<int>\u001b[39m\u001b[23m 3, 8, 5, 3, 0, 0, 2, 1, 1, 8, 12, 26, 29, 47, 35, 40, 41, 1…\n",
      "$ registered \u001b[3m\u001b[90m<int>\u001b[39m\u001b[23m 13, 32, 27, 10, 1, 1, 0, 2, 7, 6, 24, 30, 55, 47, 71, 70, 5…\n",
      "$ count      \u001b[3m\u001b[90m<int>\u001b[39m\u001b[23m 16, 40, 32, 13, 1, 1, 2, 3, 8, 14, 36, 56, 84, 94, 106, 110…\n",
      "$ date       \u001b[3m\u001b[90m<date>\u001b[39m\u001b[23m 2011-01-01, 2011-01-01, 2011-01-01, 2011-01-01, 2011-01-01…\n",
      "$ time       \u001b[3m\u001b[90m<int>\u001b[39m\u001b[23m 0, 1, 2, 3, 4, 5, 6, 7, 8, 9, 10, 11, 12, 13, 14, 15, 16, 1…\n"
     ]
    }
   ],
   "source": [
    "# Chang time to int\n",
    "yulu_new_df$time <- revalue(yulu_new_df$time, c(\"00:00:00\" = 0,\n",
    "                                               \"01:00:00\" = 1,\n",
    "                                               \"02:00:00\" = 2,\n",
    "                                               \"03:00:00\" = 3,\n",
    "                                               \"04:00:00\" = 4,\n",
    "                                               \"05:00:00\" = 5,\n",
    "                                               \"06:00:00\" = 6,\n",
    "                                               \"07:00:00\" = 7,\n",
    "                                               \"08:00:00\" = 8,\n",
    "                                               \"09:00:00\" = 9,\n",
    "                                               \"10:00:00\" = 10,\n",
    "                                               \"11:00:00\" = 11,\n",
    "                                               \"12:00:00\" = 12,\n",
    "                                               \"13:00:00\" = 13,\n",
    "                                               \"14:00:00\" = 14,\n",
    "                                               \"15:00:00\" = 15,\n",
    "                                               \"16:00:00\" = 16,\n",
    "                                               \"17:00:00\" = 17,\n",
    "                                               \"18:00:00\" = 18,\n",
    "                                               \"19:00:00\" = 19,\n",
    "                                               \"20:00:00\" = 20,\n",
    "                                               \"21:00:00\" = 21,\n",
    "                                               \"22:00:00\" = 22,\n",
    "                                               \"23:00:00\" = 23))\n",
    "\n",
    "yulu_new_df$time <- as.integer(yulu_new_df$time)\n",
    "glimpse(yulu_new_df)"
   ]
  },
  {
   "cell_type": "markdown",
   "id": "e80d4336",
   "metadata": {
    "papermill": {
     "duration": 0.011519,
     "end_time": "2023-03-05T19:05:21.429119",
     "exception": false,
     "start_time": "2023-03-05T19:05:21.417600",
     "status": "completed"
    },
    "tags": []
   },
   "source": [
    "## Analysis\n",
    "\n",
    "**Which variables are significant in predicting the demand for shared electric cycles in the Indian market?**\n",
    "\n",
    "**How well those variables describe the electric cycle demands?**"
   ]
  },
  {
   "cell_type": "code",
   "execution_count": 9,
   "id": "c872c065",
   "metadata": {
    "execution": {
     "iopub.execute_input": "2023-03-05T19:05:21.455641Z",
     "iopub.status.busy": "2023-03-05T19:05:21.453828Z",
     "iopub.status.idle": "2023-03-05T19:05:21.500445Z",
     "shell.execute_reply": "2023-03-05T19:05:21.498356Z"
    },
    "papermill": {
     "duration": 0.06271,
     "end_time": "2023-03-05T19:05:21.503114",
     "exception": false,
     "start_time": "2023-03-05T19:05:21.440404",
     "status": "completed"
    },
    "tags": []
   },
   "outputs": [
    {
     "data": {
      "text/html": [
       "<table class=\"dataframe\">\n",
       "<caption>A matrix: 9 × 1 of type dbl</caption>\n",
       "<tbody>\n",
       "\t<tr><th scope=row>season</th><td> 0.16</td></tr>\n",
       "\t<tr><th scope=row>holiday</th><td>-0.01</td></tr>\n",
       "\t<tr><th scope=row>workingday</th><td> 0.01</td></tr>\n",
       "\t<tr><th scope=row>weather</th><td>-0.13</td></tr>\n",
       "\t<tr><th scope=row>temp</th><td> 0.39</td></tr>\n",
       "\t<tr><th scope=row>atemp</th><td> 0.39</td></tr>\n",
       "\t<tr><th scope=row>humidity</th><td>-0.32</td></tr>\n",
       "\t<tr><th scope=row>windspeed</th><td> 0.10</td></tr>\n",
       "\t<tr><th scope=row>time</th><td> 0.40</td></tr>\n",
       "</tbody>\n",
       "</table>\n"
      ],
      "text/latex": [
       "A matrix: 9 × 1 of type dbl\n",
       "\\begin{tabular}{r|l}\n",
       "\tseason &  0.16\\\\\n",
       "\tholiday & -0.01\\\\\n",
       "\tworkingday &  0.01\\\\\n",
       "\tweather & -0.13\\\\\n",
       "\ttemp &  0.39\\\\\n",
       "\tatemp &  0.39\\\\\n",
       "\thumidity & -0.32\\\\\n",
       "\twindspeed &  0.10\\\\\n",
       "\ttime &  0.40\\\\\n",
       "\\end{tabular}\n"
      ],
      "text/markdown": [
       "\n",
       "A matrix: 9 × 1 of type dbl\n",
       "\n",
       "| season |  0.16 |\n",
       "| holiday | -0.01 |\n",
       "| workingday |  0.01 |\n",
       "| weather | -0.13 |\n",
       "| temp |  0.39 |\n",
       "| atemp |  0.39 |\n",
       "| humidity | -0.32 |\n",
       "| windspeed |  0.10 |\n",
       "| time |  0.40 |\n",
       "\n"
      ],
      "text/plain": [
       "           [,1] \n",
       "season      0.16\n",
       "holiday    -0.01\n",
       "workingday  0.01\n",
       "weather    -0.13\n",
       "temp        0.39\n",
       "atemp       0.39\n",
       "humidity   -0.32\n",
       "windspeed   0.10\n",
       "time        0.40"
      ]
     },
     "metadata": {},
     "output_type": "display_data"
    }
   ],
   "source": [
    "# Find correlation\n",
    "correlations <- cor(yulu_new_df[,-9:-12], yulu_new_df$count)\n",
    "round(correlations,2)"
   ]
  },
  {
   "cell_type": "code",
   "execution_count": 10,
   "id": "eb411538",
   "metadata": {
    "execution": {
     "iopub.execute_input": "2023-03-05T19:05:21.529823Z",
     "iopub.status.busy": "2023-03-05T19:05:21.527592Z",
     "iopub.status.idle": "2023-03-05T19:05:25.253753Z",
     "shell.execute_reply": "2023-03-05T19:05:25.251561Z"
    },
    "papermill": {
     "duration": 3.742127,
     "end_time": "2023-03-05T19:05:25.256382",
     "exception": false,
     "start_time": "2023-03-05T19:05:21.514255",
     "status": "completed"
    },
    "tags": []
   },
   "outputs": [
    {
     "data": {
      "image/png": "[encoded data removed]"
     },
     "metadata": {
      "image/png": {
       "height": 420,
       "width": 420
      }
     },
     "output_type": "display_data"
    },
    {
     "data": {
      "image/png": "[encoded data removed]"
     },
     "metadata": {
      "image/png": {
       "height": 420,
       "width": 420
      }
     },
     "output_type": "display_data"
    },
    {
     "data": {
      "image/png": "[encoded data removed]"
     },
     "metadata": {
      "image/png": {
       "height": 420,
       "width": 420
      }
     },
     "output_type": "display_data"
    },
    {
     "data": {
      "image/png": "[encoded data removed]"
     },
     "metadata": {
      "image/png": {
       "height": 420,
       "width": 420
      }
     },
     "output_type": "display_data"
    },
    {
     "data": {
      "image/png": "[encoded data removed]"
     },
     "metadata": {
      "image/png": {
       "height": 420,
       "width": 420
      }
     },
     "output_type": "display_data"
    },
    {
     "data": {
      "image/png": "[encoded data removed]"
     },
     "metadata": {
      "image/png": {
       "height": 420,
       "width": 420
      }
     },
     "output_type": "display_data"
    },
    {
     "data": {
      "image/png": "[encoded data removed]"
     },
     "metadata": {
      "image/png": {
       "height": 420,
       "width": 420
      }
     },
     "output_type": "display_data"
    },
    {
     "data": {
      "image/png": "[encoded data removed]"
     },
     "metadata": {
      "image/png": {
       "height": 420,
       "width": 420
      }
     },
     "output_type": "display_data"
    },
    {
     "data": {
      "image/png": "[encoded data removed]"
     },
     "metadata": {
      "image/png": {
       "height": 420,
       "width": 420
      }
     },
     "output_type": "display_data"
    },
    {
     "data": {
      "image/png": "[encoded data removed]"
     },
     "metadata": {
      "image/png": {
       "height": 420,
       "width": 420
      }
     },
     "output_type": "display_data"
    }
   ],
   "source": [
    "# Plot chart to see relation.\n",
    "ggplot(yulu_new_df , aes(x = season , y = count )) +\n",
    "    geom_col()\n",
    "ggplot(yulu_new_df , aes(x = holiday , y = count )) +\n",
    "    geom_col()\n",
    "ggplot(yulu_new_df , aes(x = workingday , y = count )) +\n",
    "    geom_col()\n",
    "ggplot(yulu_new_df , aes(x = month(date,label = TRUE) , y = count)) +\n",
    "    geom_col()\n",
    "ggplot(yulu_new_df , aes(x = weather , y = count )) +\n",
    "    geom_col()\n",
    "ggplot(yulu_new_df , aes(x = temp , y = count )) +\n",
    "    geom_col()\n",
    "ggplot(yulu_new_df , aes(x = atemp , y = count)) +\n",
    "    geom_col()\n",
    "ggplot(yulu_new_df , aes(x = humidity , y = count )) +\n",
    "    geom_col()\n",
    "ggplot(yulu_new_df , aes(x = windspeed , y = count )) +\n",
    "    geom_col()\n",
    "ggplot(yulu_new_df , aes(x = time , y = count )) +\n",
    "    geom_col()"
   ]
  },
  {
   "cell_type": "markdown",
   "id": "673fedc3",
   "metadata": {
    "papermill": {
     "duration": 0.015411,
     "end_time": "2023-03-05T19:05:25.287631",
     "exception": false,
     "start_time": "2023-03-05T19:05:25.272220",
     "status": "completed"
    },
    "tags": []
   },
   "source": [
    "### Here are I found\n",
    "\n",
    "Correlation of 0.3 or higher is often considered moderately strong. So `temp`, `atemp` ,`humidity` and `time` parameter are moderately correlation to electric cycles depends.\n"
   ]
  },
  {
   "cell_type": "code",
   "execution_count": 11,
   "id": "6c8053dc",
   "metadata": {
    "execution": {
     "iopub.execute_input": "2023-03-05T19:05:25.321546Z",
     "iopub.status.busy": "2023-03-05T19:05:25.319635Z",
     "iopub.status.idle": "2023-03-05T19:05:25.461974Z",
     "shell.execute_reply": "2023-03-05T19:05:25.459671Z"
    },
    "papermill": {
     "duration": 0.162465,
     "end_time": "2023-03-05T19:05:25.465043",
     "exception": false,
     "start_time": "2023-03-05T19:05:25.302578",
     "status": "completed"
    },
    "tags": []
   },
   "outputs": [
    {
     "data": {
      "text/html": [
       "<table class=\"dataframe\">\n",
       "<caption>A data.frame: 5 × 2</caption>\n",
       "<thead>\n",
       "\t<tr><th scope=col>temp</th><th scope=col>total_count</th></tr>\n",
       "\t<tr><th scope=col>&lt;dbl&gt;</th><th scope=col>&lt;int&gt;</th></tr>\n",
       "</thead>\n",
       "<tbody>\n",
       "\t<tr><td>28.70</td><td>110029</td></tr>\n",
       "\t<tr><td>26.24</td><td>105279</td></tr>\n",
       "\t<tr><td>29.52</td><td> 98025</td></tr>\n",
       "\t<tr><td>24.60</td><td> 92501</td></tr>\n",
       "\t<tr><td>30.34</td><td> 90655</td></tr>\n",
       "</tbody>\n",
       "</table>\n"
      ],
      "text/latex": [
       "A data.frame: 5 × 2\n",
       "\\begin{tabular}{ll}\n",
       " temp & total\\_count\\\\\n",
       " <dbl> & <int>\\\\\n",
       "\\hline\n",
       "\t 28.70 & 110029\\\\\n",
       "\t 26.24 & 105279\\\\\n",
       "\t 29.52 &  98025\\\\\n",
       "\t 24.60 &  92501\\\\\n",
       "\t 30.34 &  90655\\\\\n",
       "\\end{tabular}\n"
      ],
      "text/markdown": [
       "\n",
       "A data.frame: 5 × 2\n",
       "\n",
       "| temp &lt;dbl&gt; | total_count &lt;int&gt; |\n",
       "|---|---|\n",
       "| 28.70 | 110029 |\n",
       "| 26.24 | 105279 |\n",
       "| 29.52 |  98025 |\n",
       "| 24.60 |  92501 |\n",
       "| 30.34 |  90655 |\n",
       "\n"
      ],
      "text/plain": [
       "  temp  total_count\n",
       "1 28.70 110029     \n",
       "2 26.24 105279     \n",
       "3 29.52  98025     \n",
       "4 24.60  92501     \n",
       "5 30.34  90655     "
      ]
     },
     "metadata": {},
     "output_type": "display_data"
    }
   ],
   "source": [
    "# Finding the most electric cycle demands by temp\n",
    "query_temp <- \"SELECT \n",
    "            temp,\n",
    "            sum(count) as total_count\n",
    "          FROM yulu_new_df\n",
    "            Group by temp\n",
    "            Order by total_count desc\n",
    "            limit 5\"\n",
    "sqldf(query_temp)"
   ]
  },
  {
   "cell_type": "markdown",
   "id": "0557a1c4",
   "metadata": {
    "papermill": {
     "duration": 0.015049,
     "end_time": "2023-03-05T19:05:25.495686",
     "exception": false,
     "start_time": "2023-03-05T19:05:25.480637",
     "status": "completed"
    },
    "tags": []
   },
   "source": [
    "### Temperatuer\n",
    "\n",
    "#### The top 3 temperature has highest electric cycle demands are 28.70, 26.24 and 29.52 celsius. "
   ]
  },
  {
   "cell_type": "code",
   "execution_count": 12,
   "id": "0c9f55d7",
   "metadata": {
    "execution": {
     "iopub.execute_input": "2023-03-05T19:05:25.530378Z",
     "iopub.status.busy": "2023-03-05T19:05:25.528369Z",
     "iopub.status.idle": "2023-03-05T19:05:25.752170Z",
     "shell.execute_reply": "2023-03-05T19:05:25.749181Z"
    },
    "papermill": {
     "duration": 0.244593,
     "end_time": "2023-03-05T19:05:25.755343",
     "exception": false,
     "start_time": "2023-03-05T19:05:25.510750",
     "status": "completed"
    },
    "tags": []
   },
   "outputs": [
    {
     "data": {
      "text/html": [
       "<table class=\"dataframe\">\n",
       "<caption>A data.frame: 5 × 2</caption>\n",
       "<thead>\n",
       "\t<tr><th scope=col>atemp</th><th scope=col>total_count</th></tr>\n",
       "\t<tr><th scope=col>&lt;dbl&gt;</th><th scope=col>&lt;int&gt;</th></tr>\n",
       "</thead>\n",
       "<tbody>\n",
       "\t<tr><td>31.060</td><td>206885</td></tr>\n",
       "\t<tr><td>32.575</td><td> 90235</td></tr>\n",
       "\t<tr><td>33.335</td><td> 88855</td></tr>\n",
       "\t<tr><td>26.515</td><td> 83895</td></tr>\n",
       "\t<tr><td>30.305</td><td> 79552</td></tr>\n",
       "</tbody>\n",
       "</table>\n"
      ],
      "text/latex": [
       "A data.frame: 5 × 2\n",
       "\\begin{tabular}{ll}\n",
       " atemp & total\\_count\\\\\n",
       " <dbl> & <int>\\\\\n",
       "\\hline\n",
       "\t 31.060 & 206885\\\\\n",
       "\t 32.575 &  90235\\\\\n",
       "\t 33.335 &  88855\\\\\n",
       "\t 26.515 &  83895\\\\\n",
       "\t 30.305 &  79552\\\\\n",
       "\\end{tabular}\n"
      ],
      "text/markdown": [
       "\n",
       "A data.frame: 5 × 2\n",
       "\n",
       "| atemp &lt;dbl&gt; | total_count &lt;int&gt; |\n",
       "|---|---|\n",
       "| 31.060 | 206885 |\n",
       "| 32.575 |  90235 |\n",
       "| 33.335 |  88855 |\n",
       "| 26.515 |  83895 |\n",
       "| 30.305 |  79552 |\n",
       "\n"
      ],
      "text/plain": [
       "  atemp  total_count\n",
       "1 31.060 206885     \n",
       "2 32.575  90235     \n",
       "3 33.335  88855     \n",
       "4 26.515  83895     \n",
       "5 30.305  79552     "
      ]
     },
     "metadata": {},
     "output_type": "display_data"
    }
   ],
   "source": [
    "# Finding the most electric cycle demands by atemp\n",
    "query_atemp <- \"SELECT \n",
    "            atemp,\n",
    "            sum(count) as total_count\n",
    "          FROM yulu_new_df\n",
    "            Group by atemp\n",
    "            Order by total_count desc\n",
    "            limit 5\"\n",
    "sqldf(query_atemp)"
   ]
  },
  {
   "cell_type": "markdown",
   "id": "b843e2e1",
   "metadata": {
    "papermill": {
     "duration": 0.015418,
     "end_time": "2023-03-05T19:05:25.786185",
     "exception": false,
     "start_time": "2023-03-05T19:05:25.770767",
     "status": "completed"
    },
    "tags": []
   },
   "source": [
    "### Feeling temperature\n",
    "\n",
    "#### The top 3 feeling temperature has highest electric cycle demands are 31.06 , 32.57 and 33.33 celsius. "
   ]
  },
  {
   "cell_type": "code",
   "execution_count": 13,
   "id": "d79b141e",
   "metadata": {
    "execution": {
     "iopub.execute_input": "2023-03-05T19:05:25.821913Z",
     "iopub.status.busy": "2023-03-05T19:05:25.819927Z",
     "iopub.status.idle": "2023-03-05T19:05:25.904820Z",
     "shell.execute_reply": "2023-03-05T19:05:25.902694Z"
    },
    "papermill": {
     "duration": 0.105477,
     "end_time": "2023-03-05T19:05:25.907507",
     "exception": false,
     "start_time": "2023-03-05T19:05:25.802030",
     "status": "completed"
    },
    "tags": []
   },
   "outputs": [
    {
     "data": {
      "text/html": [
       "<table class=\"dataframe\">\n",
       "<caption>A data.frame: 5 × 2</caption>\n",
       "<thead>\n",
       "\t<tr><th scope=col>humidity</th><th scope=col>total_count</th></tr>\n",
       "\t<tr><th scope=col>&lt;int&gt;</th><th scope=col>&lt;int&gt;</th></tr>\n",
       "</thead>\n",
       "<tbody>\n",
       "\t<tr><td>46</td><td>61231</td></tr>\n",
       "\t<tr><td>55</td><td>53409</td></tr>\n",
       "\t<tr><td>49</td><td>52893</td></tr>\n",
       "\t<tr><td>43</td><td>51267</td></tr>\n",
       "\t<tr><td>62</td><td>50103</td></tr>\n",
       "</tbody>\n",
       "</table>\n"
      ],
      "text/latex": [
       "A data.frame: 5 × 2\n",
       "\\begin{tabular}{ll}\n",
       " humidity & total\\_count\\\\\n",
       " <int> & <int>\\\\\n",
       "\\hline\n",
       "\t 46 & 61231\\\\\n",
       "\t 55 & 53409\\\\\n",
       "\t 49 & 52893\\\\\n",
       "\t 43 & 51267\\\\\n",
       "\t 62 & 50103\\\\\n",
       "\\end{tabular}\n"
      ],
      "text/markdown": [
       "\n",
       "A data.frame: 5 × 2\n",
       "\n",
       "| humidity &lt;int&gt; | total_count &lt;int&gt; |\n",
       "|---|---|\n",
       "| 46 | 61231 |\n",
       "| 55 | 53409 |\n",
       "| 49 | 52893 |\n",
       "| 43 | 51267 |\n",
       "| 62 | 50103 |\n",
       "\n"
      ],
      "text/plain": [
       "  humidity total_count\n",
       "1 46       61231      \n",
       "2 55       53409      \n",
       "3 49       52893      \n",
       "4 43       51267      \n",
       "5 62       50103      "
      ]
     },
     "metadata": {},
     "output_type": "display_data"
    }
   ],
   "source": [
    "# Finding the most electric cycle demands by humidity\n",
    "query_humidity <- \"SELECT \n",
    "            humidity,\n",
    "            sum(count) as total_count\n",
    "          FROM yulu_new_df\n",
    "            Group by humidity\n",
    "            Order by total_count desc\n",
    "            limit 5\"\n",
    "sqldf(query_humidity)"
   ]
  },
  {
   "cell_type": "markdown",
   "id": "52ab5bce",
   "metadata": {
    "papermill": {
     "duration": 0.015548,
     "end_time": "2023-03-05T19:05:25.938657",
     "exception": false,
     "start_time": "2023-03-05T19:05:25.923109",
     "status": "completed"
    },
    "tags": []
   },
   "source": [
    "### Humidity\n",
    "\n",
    "#### The top 3 humidity has highest electric cycle demands are 46, 55 and 49. "
   ]
  },
  {
   "cell_type": "code",
   "execution_count": 14,
   "id": "42d006bd",
   "metadata": {
    "execution": {
     "iopub.execute_input": "2023-03-05T19:05:25.974108Z",
     "iopub.status.busy": "2023-03-05T19:05:25.972326Z",
     "iopub.status.idle": "2023-03-05T19:05:26.064566Z",
     "shell.execute_reply": "2023-03-05T19:05:26.062421Z"
    },
    "papermill": {
     "duration": 0.113054,
     "end_time": "2023-03-05T19:05:26.067259",
     "exception": false,
     "start_time": "2023-03-05T19:05:25.954205",
     "status": "completed"
    },
    "tags": []
   },
   "outputs": [
    {
     "data": {
      "text/html": [
       "<table class=\"dataframe\">\n",
       "<caption>A data.frame: 5 × 2</caption>\n",
       "<thead>\n",
       "\t<tr><th scope=col>time</th><th scope=col>total_count</th></tr>\n",
       "\t<tr><th scope=col>&lt;int&gt;</th><th scope=col>&lt;int&gt;</th></tr>\n",
       "</thead>\n",
       "<tbody>\n",
       "\t<tr><td>17</td><td>213757</td></tr>\n",
       "\t<tr><td>18</td><td>196472</td></tr>\n",
       "\t<tr><td> 8</td><td>165060</td></tr>\n",
       "\t<tr><td>16</td><td>144266</td></tr>\n",
       "\t<tr><td>19</td><td>143767</td></tr>\n",
       "</tbody>\n",
       "</table>\n"
      ],
      "text/latex": [
       "A data.frame: 5 × 2\n",
       "\\begin{tabular}{ll}\n",
       " time & total\\_count\\\\\n",
       " <int> & <int>\\\\\n",
       "\\hline\n",
       "\t 17 & 213757\\\\\n",
       "\t 18 & 196472\\\\\n",
       "\t  8 & 165060\\\\\n",
       "\t 16 & 144266\\\\\n",
       "\t 19 & 143767\\\\\n",
       "\\end{tabular}\n"
      ],
      "text/markdown": [
       "\n",
       "A data.frame: 5 × 2\n",
       "\n",
       "| time &lt;int&gt; | total_count &lt;int&gt; |\n",
       "|---|---|\n",
       "| 17 | 213757 |\n",
       "| 18 | 196472 |\n",
       "|  8 | 165060 |\n",
       "| 16 | 144266 |\n",
       "| 19 | 143767 |\n",
       "\n"
      ],
      "text/plain": [
       "  time total_count\n",
       "1 17   213757     \n",
       "2 18   196472     \n",
       "3  8   165060     \n",
       "4 16   144266     \n",
       "5 19   143767     "
      ]
     },
     "metadata": {},
     "output_type": "display_data"
    }
   ],
   "source": [
    "# Finding the most electric cycle demands by time\n",
    "query_time <- \"SELECT \n",
    "            time,\n",
    "            sum(count) as total_count\n",
    "          FROM yulu_new_df\n",
    "            Group by time\n",
    "            Order by total_count desc\n",
    "            limit 5\"\n",
    "sqldf(query_time)"
   ]
  },
  {
   "cell_type": "markdown",
   "id": "8b4c5ed4",
   "metadata": {
    "papermill": {
     "duration": 0.015708,
     "end_time": "2023-03-05T19:05:26.098896",
     "exception": false,
     "start_time": "2023-03-05T19:05:26.083188",
     "status": "completed"
    },
    "tags": []
   },
   "source": [
    "### Time\n",
    "\n",
    "#### The most electric cycle demands are in evening (16PM-19PM). However morning also peak  demands on 8AM."
   ]
  },
  {
   "cell_type": "markdown",
   "id": "c01bb5c4",
   "metadata": {
    "papermill": {
     "duration": 0.053895,
     "end_time": "2023-03-05T19:05:26.168288",
     "exception": false,
     "start_time": "2023-03-05T19:05:26.114393",
     "status": "completed"
    },
    "tags": []
   },
   "source": [
    "### Moreover\n",
    "\n",
    "Season : Most demand in Rainy. Less demand in String.\n",
    "\n",
    "Working day : Most demand in working day.\n",
    "\n",
    "Month : Most demand in June, July, August and September.\n",
    "\n",
    "Weather: Most demand in Clear, Few clouds, partly cloudy, partly cloudy weather.\n",
    "\n",
    "Wind speed : Most demand are in wind speed less than 20."
   ]
  },
  {
   "cell_type": "markdown",
   "id": "be8c98ba",
   "metadata": {
    "papermill": {
     "duration": 0.015536,
     "end_time": "2023-03-05T19:05:26.199348",
     "exception": false,
     "start_time": "2023-03-05T19:05:26.183812",
     "status": "completed"
    },
    "tags": []
   },
   "source": [
    "# Hypothesis testing"
   ]
  },
  {
   "cell_type": "markdown",
   "id": "13483ba8",
   "metadata": {
    "papermill": {
     "duration": 0.015797,
     "end_time": "2023-03-05T19:05:26.230711",
     "exception": false,
     "start_time": "2023-03-05T19:05:26.214914",
     "status": "completed"
    },
    "tags": []
   },
   "source": [
    "### Has Working Day effect on number of electric cycles rented?"
   ]
  },
  {
   "cell_type": "markdown",
   "id": "f81597c0",
   "metadata": {
    "papermill": {
     "duration": 0.01559,
     "end_time": "2023-03-05T19:05:26.261967",
     "exception": false,
     "start_time": "2023-03-05T19:05:26.246377",
     "status": "completed"
    },
    "tags": []
   },
   "source": [
    "#### 1. Define hypothesis\n",
    "\n",
    "H0: There is no significant difference in the number of electric cycles rented on working days and non-working days.\n",
    "\n",
    "Ha: There is a significant difference in the number of electric cycles rented on working days and non-working days."
   ]
  },
  {
   "cell_type": "markdown",
   "id": "c6d35058",
   "metadata": {
    "papermill": {
     "duration": 0.016133,
     "end_time": "2023-03-05T19:05:26.293644",
     "exception": false,
     "start_time": "2023-03-05T19:05:26.277511",
     "status": "completed"
    },
    "tags": []
   },
   "source": [
    "#### 2. Prepare data"
   ]
  },
  {
   "cell_type": "code",
   "execution_count": 15,
   "id": "01594d3e",
   "metadata": {
    "execution": {
     "iopub.execute_input": "2023-03-05T19:05:26.329630Z",
     "iopub.status.busy": "2023-03-05T19:05:26.327729Z",
     "iopub.status.idle": "2023-03-05T19:05:26.401138Z",
     "shell.execute_reply": "2023-03-05T19:05:26.398219Z"
    },
    "papermill": {
     "duration": 0.094678,
     "end_time": "2023-03-05T19:05:26.404059",
     "exception": false,
     "start_time": "2023-03-05T19:05:26.309381",
     "status": "completed"
    },
    "tags": []
   },
   "outputs": [],
   "source": [
    "# Set workday and no workday data\n",
    "workday <- filter(yulu_new_df , workingday==1)\n",
    "coun_workday <- workday$count\n",
    "\n",
    "noworkday <- filter(yulu_new_df , workingday==0)\n",
    "coun_noworkday <- noworkday$count"
   ]
  },
  {
   "cell_type": "markdown",
   "id": "d5358589",
   "metadata": {
    "papermill": {
     "duration": 0.01576,
     "end_time": "2023-03-05T19:05:26.435518",
     "exception": false,
     "start_time": "2023-03-05T19:05:26.419758",
     "status": "completed"
    },
    "tags": []
   },
   "source": [
    "#### 3. Statistical test"
   ]
  },
  {
   "cell_type": "code",
   "execution_count": 16,
   "id": "9782649e",
   "metadata": {
    "execution": {
     "iopub.execute_input": "2023-03-05T19:05:26.472464Z",
     "iopub.status.busy": "2023-03-05T19:05:26.470471Z",
     "iopub.status.idle": "2023-03-05T19:05:26.502185Z",
     "shell.execute_reply": "2023-03-05T19:05:26.499206Z"
    },
    "papermill": {
     "duration": 0.053925,
     "end_time": "2023-03-05T19:05:26.505310",
     "exception": false,
     "start_time": "2023-03-05T19:05:26.451385",
     "status": "completed"
    },
    "tags": []
   },
   "outputs": [
    {
     "data": {
      "text/plain": [
       "\n",
       "\tF test to compare two variances\n",
       "\n",
       "data:  coun_workday and coun_noworkday\n",
       "F = 1.1281, num df = 7411, denom df = 3473, p-value = 3.97e-05\n",
       "alternative hypothesis: true ratio of variances is not equal to 1\n",
       "95 percent confidence interval:\n",
       " 1.065247 1.193893\n",
       "sample estimates:\n",
       "ratio of variances \n",
       "          1.128073 \n"
      ]
     },
     "metadata": {},
     "output_type": "display_data"
    }
   ],
   "source": [
    "# F-Test for variance \n",
    "var.test(coun_workday, coun_noworkday)"
   ]
  },
  {
   "cell_type": "markdown",
   "id": "c7b56641",
   "metadata": {
    "papermill": {
     "duration": 0.015683,
     "end_time": "2023-03-05T19:05:26.536837",
     "exception": false,
     "start_time": "2023-03-05T19:05:26.521154",
     "status": "completed"
    },
    "tags": []
   },
   "source": [
    "F-Test for variance of working day and no working day data is 0.0000397. It is less than 0.05. So there is a **significant difference** between the variances of the two groups being compared."
   ]
  },
  {
   "cell_type": "code",
   "execution_count": 17,
   "id": "3ef159cf",
   "metadata": {
    "execution": {
     "iopub.execute_input": "2023-03-05T19:05:26.571963Z",
     "iopub.status.busy": "2023-03-05T19:05:26.570169Z",
     "iopub.status.idle": "2023-03-05T19:05:26.593924Z",
     "shell.execute_reply": "2023-03-05T19:05:26.591825Z"
    },
    "papermill": {
     "duration": 0.04379,
     "end_time": "2023-03-05T19:05:26.596407",
     "exception": false,
     "start_time": "2023-03-05T19:05:26.552617",
     "status": "completed"
    },
    "tags": []
   },
   "outputs": [
    {
     "data": {
      "text/plain": [
       "\n",
       "\tWelch Two Sample t-test\n",
       "\n",
       "data:  coun_workday and coun_noworkday\n",
       "t = 1.2363, df = 7176.3, p-value = 0.2164\n",
       "alternative hypothesis: true difference in means is not equal to 0\n",
       "95 percent confidence interval:\n",
       " -2.638581 11.649085\n",
       "sample estimates:\n",
       "mean of x mean of y \n",
       " 193.0119  188.5066 \n"
      ]
     },
     "metadata": {},
     "output_type": "display_data"
    }
   ],
   "source": [
    "# Perform Welch's t-test\n",
    "t.test(coun_workday, coun_noworkday, var.equal = FALSE)"
   ]
  },
  {
   "cell_type": "markdown",
   "id": "a53ebd8f",
   "metadata": {
    "papermill": {
     "duration": 0.015717,
     "end_time": "2023-03-05T19:05:26.627927",
     "exception": false,
     "start_time": "2023-03-05T19:05:26.612210",
     "status": "completed"
    },
    "tags": []
   },
   "source": [
    "### 4. Conclusion\n",
    "\n",
    "The p-value is 0.2164. Since the p-value is greater than 0.05, we fail to reject the null hypothesis that the means of the two groups are equal. We can conclude that the means of electric cycles rented on working day and no working day are **not significant difference**."
   ]
  },
  {
   "cell_type": "markdown",
   "id": "47456830",
   "metadata": {
    "papermill": {
     "duration": 0.016055,
     "end_time": "2023-03-05T19:05:26.659702",
     "exception": false,
     "start_time": "2023-03-05T19:05:26.643647",
     "status": "completed"
    },
    "tags": []
   },
   "source": [
    "### No. of cycles rented similar or different in different seasons?"
   ]
  },
  {
   "cell_type": "markdown",
   "id": "999b8173",
   "metadata": {
    "papermill": {
     "duration": 0.015496,
     "end_time": "2023-03-05T19:05:26.690818",
     "exception": false,
     "start_time": "2023-03-05T19:05:26.675322",
     "status": "completed"
    },
    "tags": []
   },
   "source": [
    "**Define hypothesis**\n",
    "\n",
    "H0: There is no significant difference in the number of electric cycles rented on different seasons.\n",
    "\n",
    "Ha: There is a significant difference in the number of electric cycles rented on different seasons."
   ]
  },
  {
   "cell_type": "code",
   "execution_count": 18,
   "id": "be1a135e",
   "metadata": {
    "execution": {
     "iopub.execute_input": "2023-03-05T19:05:26.726745Z",
     "iopub.status.busy": "2023-03-05T19:05:26.724621Z",
     "iopub.status.idle": "2023-03-05T19:05:26.780799Z",
     "shell.execute_reply": "2023-03-05T19:05:26.777508Z"
    },
    "papermill": {
     "duration": 0.079681,
     "end_time": "2023-03-05T19:05:26.786210",
     "exception": false,
     "start_time": "2023-03-05T19:05:26.706529",
     "status": "completed"
    },
    "tags": []
   },
   "outputs": [
    {
     "data": {
      "text/plain": [
       "               Df    Sum Sq Mean Sq F value Pr(>F)    \n",
       "season          1   9540914 9540914   298.7 <2e-16 ***\n",
       "Residuals   10884 347631999   31940                   \n",
       "---\n",
       "Signif. codes:  0 ‘***’ 0.001 ‘**’ 0.01 ‘*’ 0.05 ‘.’ 0.1 ‘ ’ 1"
      ]
     },
     "metadata": {},
     "output_type": "display_data"
    }
   ],
   "source": [
    "# Perform a one-way ANOVA test\n",
    "result <- aov(count ~ season, data = yulu_new_df)\n",
    "summary(result)\n"
   ]
  },
  {
   "cell_type": "markdown",
   "id": "d9d0c4c2",
   "metadata": {
    "papermill": {
     "duration": 0.026465,
     "end_time": "2023-03-05T19:05:26.838945",
     "exception": false,
     "start_time": "2023-03-05T19:05:26.812480",
     "status": "completed"
    },
    "tags": []
   },
   "source": [
    "In this output, the one-way ANOVA test shows that there is a significant difference in the mean number of cycles rented in different seasons (p < 0.001), as indicated by the very low p-value (< 2e-16). Therefore, we can conclude that the number of cycles rented **is different across seasons**."
   ]
  },
  {
   "cell_type": "markdown",
   "id": "4ca624f5",
   "metadata": {
    "papermill": {
     "duration": 0.02116,
     "end_time": "2023-03-05T19:05:26.885808",
     "exception": false,
     "start_time": "2023-03-05T19:05:26.864648",
     "status": "completed"
    },
    "tags": []
   },
   "source": [
    "### No. of cycles rented similar or different in different weather?"
   ]
  },
  {
   "cell_type": "markdown",
   "id": "c3dc200a",
   "metadata": {
    "papermill": {
     "duration": 0.016011,
     "end_time": "2023-03-05T19:05:26.917896",
     "exception": false,
     "start_time": "2023-03-05T19:05:26.901885",
     "status": "completed"
    },
    "tags": []
   },
   "source": [
    "**Define hypothesis**\n",
    "\n",
    "H0: There is no significant difference in the number of electric cycles rented on different weather.\n",
    "\n",
    "Ha: There is a significant difference in the number of electric cycles rented on different weather."
   ]
  },
  {
   "cell_type": "code",
   "execution_count": 19,
   "id": "1fef9dc6",
   "metadata": {
    "execution": {
     "iopub.execute_input": "2023-03-05T19:05:26.954860Z",
     "iopub.status.busy": "2023-03-05T19:05:26.953038Z",
     "iopub.status.idle": "2023-03-05T19:05:26.995461Z",
     "shell.execute_reply": "2023-03-05T19:05:26.990597Z"
    },
    "papermill": {
     "duration": 0.065055,
     "end_time": "2023-03-05T19:05:26.999460",
     "exception": false,
     "start_time": "2023-03-05T19:05:26.934405",
     "status": "completed"
    },
    "tags": []
   },
   "outputs": [
    {
     "data": {
      "text/plain": [
       "               Df    Sum Sq Mean Sq F value Pr(>F)    \n",
       "weather         1   5911983 5911983   183.2 <2e-16 ***\n",
       "Residuals   10884 351260930   32273                   \n",
       "---\n",
       "Signif. codes:  0 ‘***’ 0.001 ‘**’ 0.01 ‘*’ 0.05 ‘.’ 0.1 ‘ ’ 1"
      ]
     },
     "metadata": {},
     "output_type": "display_data"
    }
   ],
   "source": [
    "# Perform a one-way ANOVA test\n",
    "result <- aov(count ~ weather, data = yulu_new_df)\n",
    "summary(result)"
   ]
  },
  {
   "cell_type": "markdown",
   "id": "65d35fcf",
   "metadata": {
    "papermill": {
     "duration": 0.026812,
     "end_time": "2023-03-05T19:05:27.053242",
     "exception": false,
     "start_time": "2023-03-05T19:05:27.026430",
     "status": "completed"
    },
    "tags": []
   },
   "source": [
    "In this output, the one-way ANOVA test shows that there is a significant difference in the mean number of cycles rented in different seasons (p < 0.001), as indicated by the very low p-value (< 2e-16). Therefore, we can conclude that the number of cycles rented **is different across weather**."
   ]
  },
  {
   "cell_type": "markdown",
   "id": "098d6add",
   "metadata": {
    "papermill": {
     "duration": 0.022263,
     "end_time": "2023-03-05T19:05:27.101541",
     "exception": false,
     "start_time": "2023-03-05T19:05:27.079278",
     "status": "completed"
    },
    "tags": []
   },
   "source": [
    "### Weather is dependent on season (check between 2 predictor variable)"
   ]
  },
  {
   "cell_type": "markdown",
   "id": "b90aa567",
   "metadata": {
    "papermill": {
     "duration": 0.016243,
     "end_time": "2023-03-05T19:05:27.134347",
     "exception": false,
     "start_time": "2023-03-05T19:05:27.118104",
     "status": "completed"
    },
    "tags": []
   },
   "source": [
    "#### Set hypothesis \n",
    "\n",
    "Null Hypothesis (H0): Weather is independent of season. There is no association between the two variables.\n",
    "\n",
    "Alternative Hypothesis (HA): Weather is dependent on season. There is an association between the two variables."
   ]
  },
  {
   "cell_type": "code",
   "execution_count": 20,
   "id": "7e02f9d0",
   "metadata": {
    "execution": {
     "iopub.execute_input": "2023-03-05T19:05:27.170341Z",
     "iopub.status.busy": "2023-03-05T19:05:27.168590Z",
     "iopub.status.idle": "2023-03-05T19:05:27.201935Z",
     "shell.execute_reply": "2023-03-05T19:05:27.199687Z"
    },
    "papermill": {
     "duration": 0.053963,
     "end_time": "2023-03-05T19:05:27.204461",
     "exception": false,
     "start_time": "2023-03-05T19:05:27.150498",
     "status": "completed"
    },
    "tags": []
   },
   "outputs": [
    {
     "name": "stderr",
     "output_type": "stream",
     "text": [
      "Warning message in chisq.test(wea_sea):\n",
      "“Chi-squared approximation may be incorrect”\n"
     ]
    },
    {
     "data": {
      "text/plain": [
       "\n",
       "\tPearson's Chi-squared test\n",
       "\n",
       "data:  wea_sea\n",
       "X-squared = 3787.7, df = 10885, p-value = 1\n"
      ]
     },
     "metadata": {},
     "output_type": "display_data"
    }
   ],
   "source": [
    "# I use Chi-Squared for Test\n",
    "wea_sea <- data.frame(yulu_new_df$season, yulu_new_df$weather)\n",
    "chisq.test(wea_sea)"
   ]
  },
  {
   "cell_type": "markdown",
   "id": "b7d9ee26",
   "metadata": {
    "papermill": {
     "duration": 0.016648,
     "end_time": "2023-03-05T19:05:27.237787",
     "exception": false,
     "start_time": "2023-03-05T19:05:27.221139",
     "status": "completed"
    },
    "tags": []
   },
   "source": [
    "The chi-squared test of independence is 1, we would fail to reject the null hypothesis. We would conclude that there is **no significant relationship** between season and weather."
   ]
  },
  {
   "cell_type": "markdown",
   "id": "f38cb6fb",
   "metadata": {
    "papermill": {
     "duration": 0.016467,
     "end_time": "2023-03-05T19:05:27.270896",
     "exception": false,
     "start_time": "2023-03-05T19:05:27.254429",
     "status": "completed"
    },
    "tags": []
   },
   "source": [
    "# Conclusion"
   ]
  },
  {
   "cell_type": "markdown",
   "id": "385d6792",
   "metadata": {
    "papermill": {
     "duration": 0.017591,
     "end_time": "2023-03-05T19:05:27.304914",
     "exception": false,
     "start_time": "2023-03-05T19:05:27.287323",
     "status": "completed"
    },
    "tags": []
   },
   "source": [
    "Here is my conclusion.\n",
    "\n",
    "* Most relative parameter to cycle demand are `time` , `temp` , `feeling temp` and `humunity`.\n",
    "* Most demand in evening time (16PM-19PM).\n",
    "* Most temperature cycle demand are 28.70, 26.24 and 29.52 celsius.\n",
    "* Most feeling temperature cycle demand are 31.06 , 32.57 and 33.33 celsius.\n",
    "* Most humidity cycle demand are 46, 55 and 49.\n",
    "\n",
    "And\n",
    "* The number of cycles rented is significant different across seasons by highest rented in Rainy season.\n",
    "* The number of cycles rented is significant different across weather by highest rented in Clear, Few clouds, partly cloudy, partly cloudy weather.\n",
    "\n",
    "However\n",
    "* The means of electric cycles rented on working day and no working day are not significant difference.\n",
    "* There is no significant relationship between season and weather."
   ]
  }
 ],
 "metadata": {
  "kernelspec": {
   "display_name": "R",
   "language": "R",
   "name": "ir"
  },
  "language_info": {
   "codemirror_mode": "r",
   "file_extension": ".r",
   "mimetype": "text/x-r-source",
   "name": "R",
   "pygments_lexer": "r",
   "version": "4.0.5"
  },
  "papermill": {
   "default_parameters": {},
   "duration": 71.933328,
   "end_time": "2023-03-05T19:05:27.445296",
   "environment_variables": {},
   "exception": null,
   "input_path": "__notebook__.ipynb",
   "output_path": "__notebook__.ipynb",
   "parameters": {},
   "start_time": "2023-03-05T19:04:15.511968",
   "version": "2.4.0"
  }
 },
 "nbformat": 4,
 "nbformat_minor": 5
}
